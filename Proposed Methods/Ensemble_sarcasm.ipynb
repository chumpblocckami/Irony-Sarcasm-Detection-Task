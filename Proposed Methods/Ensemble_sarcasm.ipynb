{
 "cells": [
  {
   "cell_type": "code",
   "execution_count": null,
   "metadata": {},
   "outputs": [],
   "source": [
    "import pandas as pd\n",
    "import numpy as np\n",
    "from collections import Counter\n",
    "from sklearn.metrics import classification_report"
   ]
  },
  {
   "cell_type": "code",
   "execution_count": null,
   "metadata": {},
   "outputs": [],
   "source": [
    "xgb = pd.read_csv(r'C:\\Users\\loren\\eclipse-workspace\\BMA\\resources\\results_riloff\\input\\prediction_file\\xgb_labels.csv')\n",
    "new_deepmoji = pd.read_csv('C:/Users/loren/eclipse-workspace/BMA/resources/results_riloff/input/prediction_file/new_deepmoji.csv')\n",
    "new_bertweet = pd.read_csv('C:/Users/loren/eclipse-workspace/BMA/resources/results_riloff/input/prediction_file/new_bertweet.csv')\n",
    "transformer = pd.read_csv('C:/Users/loren/eclipse-workspace/BMA/resources/results_riloff/input/prediction_file/transformer_model_based.csv')\n",
    "deepmoji = pd.read_csv('C:/Users/loren/eclipse-workspace/BMA/resources/results_riloff/input/prediction_file/deepmoji_chain.csv')\n",
    "random_f = pd.read_csv('C:/Users/loren/eclipse-workspace/BMA/resources/results_riloff/input/prediction_file/rf_labels.csv')"
   ]
  },
  {
   "cell_type": "code",
   "execution_count": null,
   "metadata": {},
   "outputs": [],
   "source": [
    "xgb = pd.read_csv(r'C:\\Users\\loren\\eclipse-workspace\\BMA\\resources\\results_ghosh\\input\\prediction\\xgb_labels.csv')\n",
    "new_deepmoji = pd.read_csv('C:/Users/loren/eclipse-workspace/BMA/resources/results_ghosh/input/prediction/new_deepmoji.csv')\n",
    "new_bertweet = pd.read_csv('C:/Users/loren/eclipse-workspace/BMA/resources/results_ghosh/input/prediction/new_bertweet.csv')\n",
    "transformer = pd.read_csv('C:/Users/loren/eclipse-workspace/BMA/resources/results_ghosh/input/prediction/transformer_model_based.csv')\n",
    "deepmoji = pd.read_csv('C:/Users/loren/eclipse-workspace/BMA/resources/results_ghosh/input/prediction/deepmoji_chain.csv')\n",
    "random_f = pd.read_csv(r'C:/Users/loren/eclipse-workspace/BMA/resources/results_ghosh/input/prediction/rf_labels.csv.csv')"
   ]
  },
  {
   "cell_type": "code",
   "execution_count": null,
   "metadata": {},
   "outputs": [],
   "source": [
    "def normalize_pred(x):\n",
    "    if x == '2:0':\n",
    "        i = 1\n",
    "    else:\n",
    "        i = 0\n",
    "    return i"
   ]
  },
  {
   "cell_type": "code",
   "execution_count": null,
   "metadata": {},
   "outputs": [],
   "source": [
    "def prepare_prediction(xgb):\n",
    "    xgb.predicted = xgb.predicted.apply(normalize_pred)\n",
    "    xgb.distribution = xgb.distribution.str.replace(r'*', '').apply(lambda x: np.float(x))\n",
    "    xgb['Unnamed: 5'] = xgb['Unnamed: 5'].str.replace(r'*', '').apply(lambda x: np.float(x))\n",
    "    xgb.actual = xgb.actual.apply(normalize_pred)\n",
    "    xgb_distribution = xgb[['distribution', 'Unnamed: 5']]\n",
    "    return xgb, xgb_distribution"
   ]
  },
  {
   "cell_type": "code",
   "execution_count": null,
   "metadata": {},
   "outputs": [],
   "source": [
    "xgb, xgb_distribution = prepare_prediction(xgb)\n",
    "new_deemoji, new_deepmoji_distribution = prepare_prediction(new_deepmoji)\n",
    "new_bertweet, new_bertweet_distribution = prepare_prediction(new_bertweet)\n",
    "transformer, transformer_distribution = prepare_prediction(transformer)\n",
    "deepmoji, deepmoji_distribution = prepare_prediction(deepmoji)\n",
    "randomf, randomf_distribution = prepare_prediction(random_f)"
   ]
  },
  {
   "cell_type": "markdown",
   "metadata": {},
   "source": [
    "## Sum probability"
   ]
  },
  {
   "cell_type": "code",
   "execution_count": null,
   "metadata": {},
   "outputs": [],
   "source": [
    "bma_0_rf = randomf_distribution.distribution *  0.734103\n",
    "bma_0_xgb = xgb_distribution.distribution *0.748976 \n",
    "bma_0 = bma_0_rf + bma_0_xgb"
   ]
  },
  {
   "cell_type": "code",
   "execution_count": null,
   "metadata": {},
   "outputs": [],
   "source": [
    "distrbution_0 = pd.concat([bma_0, new_deepmoji_distribution.distribution, new_bertweet_distribution.distribution], axis = 1)"
   ]
  },
  {
   "cell_type": "code",
   "execution_count": null,
   "metadata": {},
   "outputs": [],
   "source": [
    "dist_0_mean = distrbution_0.sum(axis = 1)"
   ]
  },
  {
   "cell_type": "code",
   "execution_count": null,
   "metadata": {},
   "outputs": [],
   "source": [
    "bma_1_rf = randomf_distribution['Unnamed: 5']*  0.674424\n",
    "bma_1_xgb = xgb_distribution['Unnamed: 5'] *0.705880\n",
    "bma_1 = bma_1_rf + bma_1_xgb "
   ]
  },
  {
   "cell_type": "code",
   "execution_count": null,
   "metadata": {},
   "outputs": [],
   "source": [
    "prdiction_bma = np.argmax(pd.concat([bma_0,bma_1], axis =1).values, -1)"
   ]
  },
  {
   "cell_type": "code",
   "execution_count": null,
   "metadata": {},
   "outputs": [],
   "source": [
    "distrbution_1 = pd.concat([bma_1, new_deepmoji_distribution['Unnamed: 5'], new_bertweet_distribution['Unnamed: 5']], axis = 1) # transformer_distribution['Unnamed: 5'], deepmoji_distribution['Unnamed: 5']]"
   ]
  },
  {
   "cell_type": "code",
   "execution_count": null,
   "metadata": {},
   "outputs": [],
   "source": [
    "dist_1_mean = distrbution_1.sum(axis = 1)"
   ]
  },
  {
   "cell_type": "code",
   "execution_count": null,
   "metadata": {},
   "outputs": [],
   "source": [
    "predict = pd.concat([dist_0_mean, dist_1_mean], axis = 1).values"
   ]
  },
  {
   "cell_type": "code",
   "execution_count": null,
   "metadata": {},
   "outputs": [],
   "source": [
    "print(classification_report(xgb.actual, predict.argmax(axis = -1)))"
   ]
  },
  {
   "cell_type": "code",
   "execution_count": null,
   "metadata": {},
   "outputs": [],
   "source": [
    "print(classification_report(xgb.actual, xgb.predicted))"
   ]
  },
  {
   "cell_type": "code",
   "execution_count": null,
   "metadata": {},
   "outputs": [],
   "source": [
    "print(classification_report(xgb.actual, new_bertweet.predicted))"
   ]
  },
  {
   "cell_type": "code",
   "execution_count": null,
   "metadata": {},
   "outputs": [],
   "source": [
    "print(classification_report(new_deemoji.actual, new_deepmoji.predicted))"
   ]
  },
  {
   "cell_type": "markdown",
   "metadata": {},
   "source": [
    "## Majority Voting"
   ]
  },
  {
   "cell_type": "code",
   "execution_count": null,
   "metadata": {},
   "outputs": [],
   "source": [
    "clf_list = pd.concat([pd.Series(prdiction_bma, name='predicted'),new_deemoji.predicted, new_bertweet.predicted], axis=1) #,transformer.predicted, deepmoji.predicted"
   ]
  },
  {
   "cell_type": "code",
   "execution_count": null,
   "metadata": {},
   "outputs": [],
   "source": [
    "def majority_voting(clf_list):\n",
    "    prediction = []\n",
    "    for i, j in clf_list.iterrows():\n",
    "        voting = Counter([j[0], j[1], j[2]])\n",
    "        prediction.append(voting.most_common(1)[0][0])\n",
    "    prediction = np.asarray(prediction)\n",
    "    \n",
    "    return prediction"
   ]
  },
  {
   "cell_type": "code",
   "execution_count": null,
   "metadata": {},
   "outputs": [],
   "source": [
    "prediction = majority_voting(clf_list)"
   ]
  },
  {
   "cell_type": "code",
   "execution_count": null,
   "metadata": {},
   "outputs": [],
   "source": [
    "print(classification_report(xgb.actual, prediction))"
   ]
  }
 ],
 "metadata": {
  "kernelspec": {
   "display_name": "Python 3",
   "language": "python",
   "name": "python3"
  },
  "language_info": {
   "codemirror_mode": {
    "name": "ipython",
    "version": 3
   },
   "file_extension": ".py",
   "mimetype": "text/x-python",
   "name": "python",
   "nbconvert_exporter": "python",
   "pygments_lexer": "ipython3",
   "version": "3.7.9"
  }
 },
 "nbformat": 4,
 "nbformat_minor": 4
}
