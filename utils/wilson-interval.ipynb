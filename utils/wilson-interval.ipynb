{
 "cells": [
  {
   "cell_type": "code",
   "execution_count": 2,
   "metadata": {},
   "outputs": [],
   "source": [
    "from math import sqrt\n",
    "import seaborn as sns\n",
    "import matplotlib.pyplot as plt\n",
    "def wilson(p, n, z = 1.96):\n",
    "    denominator = 1 + z**2/n\n",
    "    centre_adjusted_probability = p + z*z / (2*n)\n",
    "    adjusted_standard_deviation = sqrt((p*(1 - p) + z*z / (4*n)) / n)\n",
    "    \n",
    "    lower_bound = (centre_adjusted_probability - z*adjusted_standard_deviation) / denominator\n",
    "    upper_bound = (centre_adjusted_probability + z*adjusted_standard_deviation) / denominator\n",
    "    return (lower_bound, upper_bound)"
   ]
  },
  {
   "cell_type": "code",
   "execution_count": 7,
   "metadata": {},
   "outputs": [
    {
     "data": {
      "image/png": "[encoded data removed]",
      "text/plain": [
       "<Figure size 432x288 with 1 Axes>"
      ]
     },
     "metadata": {},
     "output_type": "display_data"
    }
   ],
   "source": [
    "item = {}\n",
    "item[\"med\"] = 0.95\n",
    "item[\"q1\"] = wilson(0.95, 31879)[0]\n",
    "item[\"q3\"] = wilson(0.95, 31879)[1]\n",
    "item[\"whislo\"] = wilson(0.95, 31879)[0]\n",
    "item[\"whishi\"] = wilson(0.95, 31879)[1]\n",
    "item[\"fliers\"] = [] # required if showfliers=True\n",
    "\n",
    "item2 = {}\n",
    "item2[\"med\"] = 0.98\n",
    "item2[\"q1\"] = wilson(0.98, 31879)[0]\n",
    "item2[\"q3\"] = wilson(0.98, 31879)[1]\n",
    "item2[\"whislo\"] = wilson(0.98, 31879)[0]\n",
    "item2[\"whishi\"] = wilson(0.98, 31879)[1]\n",
    "item2[\"fliers\"] = [] # required if showfliers=True\n",
    "\n",
    "item3 = {}\n",
    "item3[\"med\"] = 0.97\n",
    "item3[\"q1\"] = wilson(0.97, 31879)[0]\n",
    "item3[\"q3\"] = wilson(0.97, 31879)[1]\n",
    "item3[\"whislo\"] = wilson(0.97, 31879)[0]\n",
    "item3[\"whishi\"] = wilson(0.97, 31879)[1]\n",
    "item3[\"fliers\"] = [] # required if showfliers=True\n",
    "\n",
    "stats = [item, item2, item3]\n",
    "\n",
    "sns.set_style(\"darkgrid\", {\"axes.facecolor\": \".9\"})\n",
    "sns.set_context(\"notebook\", font_scale=1.25)\n",
    "\n",
    "fig, axes = plt.subplots(1, 1)\n",
    "axes.bxp(stats)\n",
    "axes.set_title('Intervallo di confidenza per il valore di accuracy')\n",
    "y_axis = [0.94, 0.95, 0.96, 0.97, 0.98, 0.99, 1]\n",
    "y_values = [\"0.94\", \"0.95\", \"0.96\",\"0.97\",  \"0.98\", \"0.99\", \"1\"]\n",
    "plt.grid(color='gainsboro', linestyle='-', linewidth=1)\n",
    "plt.yticks(y_axis, y_values)\n",
    "plt.xticks([1,2,3],[\"CNN\", \"CNN + LSTM\", \"Multi-Input NN\"])\n",
    "plt.savefig('ic.png')"
   ]
  },
  {
   "cell_type": "code",
   "execution_count": null,
   "metadata": {},
   "outputs": [],
   "source": []
  }
 ],
 "metadata": {
  "kernelspec": {
   "display_name": "Python 3",
   "language": "python",
   "name": "python3"
  },
  "language_info": {
   "codemirror_mode": {
    "name": "ipython",
    "version": 3
   },
   "file_extension": ".py",
   "mimetype": "text/x-python",
   "name": "python",
   "nbconvert_exporter": "python",
   "pygments_lexer": "ipython3",
   "version": "3.7.9"
  }
 },
 "nbformat": 4,
 "nbformat_minor": 4
}
