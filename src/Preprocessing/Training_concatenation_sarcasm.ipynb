{
 "cells": [
  {
   "cell_type": "code",
   "execution_count": null,
   "metadata": {},
   "outputs": [],
   "source": [
    "import pandas as pd"
   ]
  },
  {
   "cell_type": "markdown",
   "metadata": {},
   "source": [
    "## Sarcasm dataset preparation"
   ]
  },
  {
   "cell_type": "code",
   "execution_count": null,
   "metadata": {},
   "outputs": [],
   "source": [
    "import json\n",
    "import sys\n",
    "from tqdm import tqdm"
   ]
  },
  {
   "cell_type": "code",
   "execution_count": null,
   "metadata": {},
   "outputs": [],
   "source": [
    "filename = r'D:\\Data_Science_all\\MSC_2_anno\\Tesi_Irony_Sarcasm\\data\\Sarc2.0\\comments.json'"
   ]
  },
  {
   "cell_type": "code",
   "execution_count": null,
   "metadata": {},
   "outputs": [],
   "source": [
    "sar = pd.read_csv(r'D:\\Data_Science_all\\MSC_2_anno\\Tesi_Irony_Sarcasm\\data\\Sarc2.0\\train-balanced.csv',\n",
    "                 sep = '|')"
   ]
  },
  {
   "cell_type": "code",
   "execution_count": null,
   "metadata": {},
   "outputs": [],
   "source": [
    "import ast \n",
    "\n",
    "sar.code = sar.code.apply(lambda x:  ''.join(ast.literal_eval(x)))"
   ]
  },
  {
   "cell_type": "code",
   "execution_count": null,
   "metadata": {},
   "outputs": [],
   "source": [
    "sar.code[0]"
   ]
  },
  {
   "cell_type": "code",
   "execution_count": null,
   "metadata": {},
   "outputs": [],
   "source": [
    "import ijson\n",
    "diz = {}\n",
    "diz2 = {}\n",
    "with open(filename, 'rb') as input_file:\n",
    "    parser = ijson.parse(input_file)\n",
    "    conta = 0\n",
    "    for prefix , event, value in tqdm(parser):\n",
    "        conta += 1\n",
    "        if conta == 2:\n",
    "            diz['id'] = value\n",
    "        if conta == 5:\n",
    "            diz['text'] = value\n",
    "            diz2['{}'.format(prefix)] = diz\n",
    "            diz = {}\n",
    "        if conta == 19:\n",
    "            conta = 0"
   ]
  },
  {
   "cell_type": "code",
   "execution_count": null,
   "metadata": {},
   "outputs": [],
   "source": [
    "sar = pd.read_csv(r'D:\\Data_Science_all\\MSC_2_anno\\Tesi_Irony_Sarcasm\\data\\Sarc2.0\\my_test_balanced.txt', names = ['index', 'code', 'label'],\n",
    "                 sep = ',')"
   ]
  },
  {
   "cell_type": "code",
   "execution_count": null,
   "metadata": {},
   "outputs": [],
   "source": [
    "res = sar.merge(df2, left_on='Id', right_on='id')"
   ]
  },
  {
   "cell_type": "code",
   "execution_count": null,
   "metadata": {},
   "outputs": [],
   "source": [
    "def change_label(x):\n",
    "    if x == '1 0':\n",
    "        lab = 0\n",
    "    else:\n",
    "        lab = 1\n",
    "    return lab"
   ]
  },
  {
   "cell_type": "code",
   "execution_count": null,
   "metadata": {},
   "outputs": [],
   "source": [
    "res.label = res.label.apply(change_label)"
   ]
  },
  {
   "cell_type": "code",
   "execution_count": null,
   "metadata": {},
   "outputs": [],
   "source": [
    "res = res[['index', 'text', 'label']]"
   ]
  },
  {
   "cell_type": "code",
   "execution_count": null,
   "metadata": {},
   "outputs": [],
   "source": [
    "res.to_csv(r'D:\\Data_Science_all\\MSC_2_anno\\Tesi_Irony_Sarcasm\\data\\Sarc2.0\\pol_test.csv')"
   ]
  },
  {
   "cell_type": "code",
   "execution_count": null,
   "metadata": {},
   "outputs": [],
   "source": [
    "final_res = res[['text', 'label']]"
   ]
  },
  {
   "cell_type": "code",
   "execution_count": null,
   "metadata": {},
   "outputs": [],
   "source": [
    "final_res.label.value_counts()"
   ]
  },
  {
   "cell_type": "code",
   "execution_count": null,
   "metadata": {},
   "outputs": [],
   "source": [
    "for i in range(50):\n",
    "    print(final_res[final_res.label == 1].text.iloc[i,])"
   ]
  },
  {
   "cell_type": "code",
   "execution_count": null,
   "metadata": {},
   "outputs": [],
   "source": [
    "ptacek = pd.read_csv('../data/Ptacek_2014_sarc/sarc_ptacek_2014.csv')\n",
    "#sar20 = pd.read_csv('../data/Sarc2.0/train_balanced_sampled_sarc.csv')\n",
    "bma = pd.read_csv('../data/BMA_data/Sarcasm_data/final_sarc_bma.csv')\n",
    "ghosh = pd.read_csv('../data/Ghosh_sarc_tweet/Train_v1.txt', sep = '\\t', header = None)"
   ]
  },
  {
   "cell_type": "code",
   "execution_count": null,
   "metadata": {},
   "outputs": [],
   "source": [
    "ghosh[1].value_counts()"
   ]
  },
  {
   "cell_type": "code",
   "execution_count": null,
   "metadata": {},
   "outputs": [],
   "source": [
    "ptacek['source'] = 'Twitter'\n",
    "bma['source'] = \"Twitter\"\n",
    "ghosh['source'] = 'Twitter'"
   ]
  },
  {
   "cell_type": "code",
   "execution_count": null,
   "metadata": {},
   "outputs": [],
   "source": [
    "ptacek = ptacek[['1', 'Label', 'source']].rename({'1': 'text', 'Label': 'label'}, axis = 1)"
   ]
  },
  {
   "cell_type": "code",
   "execution_count": null,
   "metadata": {},
   "outputs": [],
   "source": [
    "sar20 = sar20[['comment', 'label', 'source']].rename({'comment':'text'}, axis = 1)"
   ]
  },
  {
   "cell_type": "code",
   "execution_count": null,
   "metadata": {},
   "outputs": [],
   "source": [
    "bma.drop('Unnamed: 0', axis = 1, inplace = True)"
   ]
  },
  {
   "cell_type": "code",
   "execution_count": null,
   "metadata": {},
   "outputs": [],
   "source": [
    "idx_sar = bma[bma.label == 'sarcasm'].index\n",
    "bma['label'][idx_sar] = 1"
   ]
  },
  {
   "cell_type": "code",
   "execution_count": null,
   "metadata": {},
   "outputs": [],
   "source": [
    "idx_sar = bma[bma.label == 'NotSarcasm'].index\n",
    "bma['label'][idx_sar] = 0"
   ]
  },
  {
   "cell_type": "code",
   "execution_count": null,
   "metadata": {},
   "outputs": [],
   "source": [
    "ghosh = ghosh.drop(0,axis = 1).rename({1:'label', 2:'text'}, axis = 1)[['text', 'label', 'source']]"
   ]
  },
  {
   "cell_type": "code",
   "execution_count": null,
   "metadata": {},
   "outputs": [],
   "source": [
    "bma = bma[~bma.text.isnull()]"
   ]
  },
  {
   "cell_type": "code",
   "execution_count": null,
   "metadata": {},
   "outputs": [],
   "source": [
    "sarc_trainingset = pd.concat([ptacek, bma, ghosh], axis = 0)"
   ]
  },
  {
   "cell_type": "code",
   "execution_count": null,
   "metadata": {},
   "outputs": [],
   "source": [
    "sarc_trainingset[sarc_trainingset.text.isnull()]"
   ]
  },
  {
   "cell_type": "code",
   "execution_count": null,
   "metadata": {
    "scrolled": true
   },
   "outputs": [],
   "source": [
    "sarc_trainingset.groupby(['source', 'label'])['label'].agg([ 'count'])"
   ]
  },
  {
   "cell_type": "code",
   "execution_count": null,
   "metadata": {},
   "outputs": [],
   "source": [
    "sarc_trainingset = sarc_trainingset[sarc_trainingset.source == 'Twitter']"
   ]
  },
  {
   "cell_type": "code",
   "execution_count": null,
   "metadata": {},
   "outputs": [],
   "source": [
    "sarc_trainingset = sarc_trainingset.sample(frac=1)"
   ]
  },
  {
   "cell_type": "code",
   "execution_count": null,
   "metadata": {},
   "outputs": [],
   "source": [
    "sarc_trainingset.loc[37081]"
   ]
  },
  {
   "cell_type": "code",
   "execution_count": null,
   "metadata": {},
   "outputs": [],
   "source": [
    "sarc_trainingset.to_csv('../data/final_sarc_trainingset_twitter.csv')"
   ]
  },
  {
   "cell_type": "code",
   "execution_count": null,
   "metadata": {},
   "outputs": [],
   "source": [
    "sarc_trainingset[sarc_trainingset.text.isnull()]"
   ]
  }
 ],
 "metadata": {
  "kernelspec": {
   "display_name": "Python 3",
   "language": "python",
   "name": "python3"
  },
  "language_info": {
   "codemirror_mode": {
    "name": "ipython",
    "version": 3
   },
   "file_extension": ".py",
   "mimetype": "text/x-python",
   "name": "python",
   "nbconvert_exporter": "python",
   "pygments_lexer": "ipython3",
   "version": "3.7.9"
  }
 },
 "nbformat": 4,
 "nbformat_minor": 4
}
