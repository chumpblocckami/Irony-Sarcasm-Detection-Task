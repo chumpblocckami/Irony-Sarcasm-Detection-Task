{
 "cells": [
  {
   "cell_type": "code",
   "execution_count": null,
   "metadata": {},
   "outputs": [],
   "source": [
    "import pandas as pd \n",
    "import tweepy\n",
    "from tqdm import tqdm\n",
    "import time"
   ]
  },
  {
   "cell_type": "code",
   "execution_count": null,
   "metadata": {},
   "outputs": [],
   "source": [
    "semeval = pd.read_csv(r'D:\\Data_Science_all\\MSC_2_anno\\Tesi_Irony_Sarcasm\\data\\SemEval2018-Task3\\datasets\\train\\SemEval2018-T3-train-taskA_emoji_ironyHashtags.txt', sep = '\\t')"
   ]
  },
  {
   "cell_type": "code",
   "execution_count": null,
   "metadata": {},
   "outputs": [],
   "source": [
    "semeval = semeval.rename({'Label': 'label', 'Tweet text': 'text'}, axis = 1).drop(['Tweet index'], axis = 1)[['text', 'label']]"
   ]
  },
  {
   "cell_type": "code",
   "execution_count": null,
   "metadata": {},
   "outputs": [],
   "source": [
    "reyes_rosso_irony = pd.read_csv('D:\\Data_Science_all\\MSC_2_anno\\Tesi_Irony_Sarcasm\\data\\corpus-ironia-4classi-antonio\\irony.data', sep = '\\n', header=None)"
   ]
  },
  {
   "cell_type": "code",
   "execution_count": null,
   "metadata": {},
   "outputs": [],
   "source": [
    "reyes_rosso_irony['label'] = 1"
   ]
  },
  {
   "cell_type": "code",
   "execution_count": null,
   "metadata": {},
   "outputs": [],
   "source": [
    "reyes_rosso_edu = pd.read_csv('D:\\Data_Science_all\\MSC_2_anno\\Tesi_Irony_Sarcasm\\data\\corpus-ironia-4classi-antonio\\education.data', sep = '\\n', header=None)\n",
    "reyes_rosso_humor = pd.read_csv('D:\\Data_Science_all\\MSC_2_anno\\Tesi_Irony_Sarcasm\\data\\corpus-ironia-4classi-antonio\\humor.data', sep = '\\n', header=None)\n",
    "reyes_rosso_pol = pd.read_csv('D:\\Data_Science_all\\MSC_2_anno\\Tesi_Irony_Sarcasm\\data\\corpus-ironia-4classi-antonio\\politics.data', sep = '\\n', header=None)"
   ]
  },
  {
   "cell_type": "code",
   "execution_count": null,
   "metadata": {},
   "outputs": [],
   "source": [
    "reyes_rosso_edu['label'] = 0\n",
    "reyes_rosso_humor['label'] = 0\n",
    "reyes_rosso_pol['label'] = 0"
   ]
  },
  {
   "cell_type": "code",
   "execution_count": null,
   "metadata": {},
   "outputs": [],
   "source": [
    "reyes_rosso = pd.concat([reyes_rosso_edu, reyes_rosso_irony, reyes_rosso_humor, reyes_rosso_pol], axis = 0).rename({0: 'text'}, axis = 1)"
   ]
  },
  {
   "cell_type": "code",
   "execution_count": null,
   "metadata": {},
   "outputs": [],
   "source": [
    "sem_reyes = pd.concat([semeval, reyes_rosso], axis = 0)"
   ]
  },
  {
   "cell_type": "code",
   "execution_count": null,
   "metadata": {},
   "outputs": [],
   "source": [
    "sem_reyes.reset_index(inplace=True)"
   ]
  },
  {
   "cell_type": "code",
   "execution_count": null,
   "metadata": {},
   "outputs": [],
   "source": [
    "sem_reyes.to_csv('../data/final_training_irony.csv')"
   ]
  },
  {
   "cell_type": "code",
   "execution_count": null,
   "metadata": {},
   "outputs": [],
   "source": [
    "from textattack.augmentation import WordNetAugmenter\n",
    "from textattack.augmentation import EmbeddingAugmenter\n",
    "import textattack as ta \n",
    "augmenter = EmbeddingAugmenter(pct_words_to_swap=0.6)"
   ]
  },
  {
   "cell_type": "code",
   "execution_count": null,
   "metadata": {},
   "outputs": [],
   "source": [
    "label_list = []\n",
    "text_aug = []\n",
    "for i in tqdm(range(len(sem_reyes))):\n",
    "    if (sem_reyes.label[i] == 1):\n",
    "        aug = augmenter.augment(sem_reyes.text[i])\n",
    "        label = sem_reyes.label[i]\n",
    "        text_aug.append(aug)\n",
    "        label_list.append(label)"
   ]
  },
  {
   "cell_type": "code",
   "execution_count": null,
   "metadata": {},
   "outputs": [],
   "source": []
  }
 ],
 "metadata": {
  "kernelspec": {
   "display_name": "Python 3",
   "language": "python",
   "name": "python3"
  },
  "language_info": {
   "codemirror_mode": {
    "name": "ipython",
    "version": 3
   },
   "file_extension": ".py",
   "mimetype": "text/x-python",
   "name": "python",
   "nbconvert_exporter": "python",
   "pygments_lexer": "ipython3",
   "version": "3.7.9"
  }
 },
 "nbformat": 4,
 "nbformat_minor": 4
}
