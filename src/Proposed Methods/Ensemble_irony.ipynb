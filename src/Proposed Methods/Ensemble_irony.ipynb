{
 "cells": [
  {
   "cell_type": "code",
   "execution_count": null,
   "metadata": {},
   "outputs": [],
   "source": [
    "import pandas as pd\n",
    "import numpy as np\n",
    "from collections import Counter\n",
    "from sklearn.metrics import classification_report, f1_score, accuracy_score"
   ]
  },
  {
   "cell_type": "code",
   "execution_count": null,
   "metadata": {},
   "outputs": [],
   "source": [
    "xgb = pd.read_csv('../Code/BMA/results_semeval/input/prediction_file/xgb_labels_semeval.csv')\n",
    "new_deepmoji = pd.read_csv('../Code/BMA/results_semeval/input/prediction_file/new_deepmoji_semeval.csv')\n",
    "new_bertweet = pd.read_csv('../Code/BMA/results_semeval/input/prediction_file/new_bertweet_semeval.csv')\n",
    "ada = pd.read_csv('../Code/BMA/results_semeval/input/prediction_file/ada_labels_semeval.csv')\n",
    "hist = pd.read_csv('../Code/BMA/results_semeval/input/prediction_file/hist_labels_semeval.csv')\n",
    "rf = pd.read_csv('../Code/BMA/results_semeval/input/prediction_file/rf_labels_semeval.csv')\n",
    "log = pd.read_csv('../Code/BMA/results_semeval/input/prediction_file/logi_labels_semeval.csv')"
   ]
  },
  {
   "cell_type": "code",
   "execution_count": null,
   "metadata": {},
   "outputs": [],
   "source": [
    "def normalize_pred(x):\n",
    "    if x == '2:0':\n",
    "        i = 1\n",
    "    else:\n",
    "        i = 0\n",
    "    return i"
   ]
  },
  {
   "cell_type": "code",
   "execution_count": null,
   "metadata": {},
   "outputs": [],
   "source": [
    "def prepare_prediction(xgb):\n",
    "    xgb.predicted = xgb.predicted.apply(normalize_pred)\n",
    "    xgb.distribution = xgb.distribution.str.replace(r'*', '').apply(lambda x: np.float(x))\n",
    "    xgb['Unnamed: 5'] = xgb['Unnamed: 5'].str.replace(r'*', '').apply(lambda x: np.float(x))\n",
    "    xgb.actual = xgb.actual.apply(normalize_pred)\n",
    "    xgb_distribution = xgb[['distribution', 'Unnamed: 5']]\n",
    "    return xgb, xgb_distribution"
   ]
  },
  {
   "cell_type": "code",
   "execution_count": null,
   "metadata": {},
   "outputs": [],
   "source": [
    "xgb, xgb_distribution = prepare_prediction(xgb)\n",
    "new_deemoji, new_deepmoji_distribution = prepare_prediction(new_deepmoji)\n",
    "new_bertweet, new_bertweet_distribution = prepare_prediction(new_bertweet)\n",
    "ada, ada_distribution = prepare_prediction(ada)\n",
    "hist, hist_distribution = prepare_prediction(hist)\n",
    "rf, rf_distribution = prepare_prediction(rf)\n",
    "log, log_distribution = prepare_prediction(log)"
   ]
  },
  {
   "cell_type": "markdown",
   "metadata": {},
   "source": [
    "## Sum probability"
   ]
  },
  {
   "cell_type": "code",
   "execution_count": null,
   "metadata": {},
   "outputs": [],
   "source": [
    "bma_0_lg = log_distribution.distribution * 0.676448\n",
    "bma_0_xgb = xgb_distribution.distribution * 0.654673\n",
    "bma_0_randomf = rf_distribution.distribution * 0.580815\n",
    "bma_0_ada = ada_distribution.distribution * 0.629298\n",
    "bma_0_hist = hist_distribution.distribution * 0.654013\n",
    "bma_0 = bma_0_lg + bma_0_xgb + bma_0_ada + bma_0_hist"
   ]
  },
  {
   "cell_type": "code",
   "execution_count": null,
   "metadata": {},
   "outputs": [],
   "source": [
    "distrbution_0 = pd.concat([bma_0, new_deepmoji_distribution.distribution, new_bertweet_distribution.distribution], axis = 1)"
   ]
  },
  {
   "cell_type": "code",
   "execution_count": null,
   "metadata": {},
   "outputs": [],
   "source": [
    "dist_0_mean = distrbution_0.sum(axis = 1)"
   ]
  },
  {
   "cell_type": "code",
   "execution_count": null,
   "metadata": {},
   "outputs": [],
   "source": [
    "bma_1_lg = log_distribution['Unnamed: 5']*0.672901\n",
    "bma_1_xgb = xgb_distribution['Unnamed: 5'] *0.647892\n",
    "bma_1_randomf = rf_distribution['Unnamed: 5'] * 0.578112\n",
    "bma_1_ada = ada_distribution['Unnamed: 5'] * 0.634285\n",
    "bma_1_hist = hist_distribution['Unnamed: 5'] * 0.643814\n",
    "bma_1 = bma_1_lg + bma_1_xgb  + bma_1_hist + bma_1_ada"
   ]
  },
  {
   "cell_type": "code",
   "execution_count": null,
   "metadata": {},
   "outputs": [],
   "source": [
    "distrbution_1 = pd.concat([bma_1, new_deepmoji_distribution['Unnamed: 5'], new_bertweet_distribution['Unnamed: 5']], axis = 1) # transformer_distribution['Unnamed: 5'], deepmoji_distribution['Unnamed: 5']]"
   ]
  },
  {
   "cell_type": "code",
   "execution_count": null,
   "metadata": {},
   "outputs": [],
   "source": [
    "dist_1_mean = distrbution_1.sum(axis = 1)"
   ]
  },
  {
   "cell_type": "code",
   "execution_count": null,
   "metadata": {},
   "outputs": [],
   "source": [
    "predict = pd.concat([dist_0_mean, dist_1_mean], axis = 1).values"
   ]
  },
  {
   "cell_type": "code",
   "execution_count": null,
   "metadata": {},
   "outputs": [],
   "source": [
    "accuracy_score(xgb.actual, predict.argmax(axis = -1))"
   ]
  },
  {
   "cell_type": "code",
   "execution_count": null,
   "metadata": {},
   "outputs": [],
   "source": [
    "print(\"Soft Classification Semeval\")\n",
    "print(classification_report(xgb.actual, predict.argmax(axis = -1)))"
   ]
  },
  {
   "cell_type": "code",
   "execution_count": null,
   "metadata": {},
   "outputs": [],
   "source": [
    "f1_score(xgb.actual, predict.argmax(axis = -1))"
   ]
  },
  {
   "cell_type": "code",
   "execution_count": null,
   "metadata": {},
   "outputs": [],
   "source": [
    "print(classification_report(xgb.actual, xgb.predicted))"
   ]
  },
  {
   "cell_type": "code",
   "execution_count": null,
   "metadata": {},
   "outputs": [],
   "source": [
    "print(classification_report(xgb.actual, new_bertweet.predicted))"
   ]
  },
  {
   "cell_type": "code",
   "execution_count": null,
   "metadata": {},
   "outputs": [],
   "source": [
    "print(classification_report(new_bertweet.actual, new_deepmoji.predicted))"
   ]
  },
  {
   "cell_type": "markdown",
   "metadata": {},
   "source": [
    "## Majority Voting"
   ]
  },
  {
   "cell_type": "code",
   "execution_count": null,
   "metadata": {},
   "outputs": [],
   "source": [
    "prdiction_bma = np.argmax(pd.concat([bma_0,bma_1], axis =1).values, -1)"
   ]
  },
  {
   "cell_type": "code",
   "execution_count": null,
   "metadata": {},
   "outputs": [],
   "source": [
    "clf_list = pd.concat([pd.Series(prdiction_bma, name='predicted'),new_deemoji.predicted, new_bertweet.predicted], axis=1) #,transformer.predicted, deepmoji.predicted"
   ]
  },
  {
   "cell_type": "code",
   "execution_count": null,
   "metadata": {},
   "outputs": [],
   "source": [
    "def majority_voting(clf_list):\n",
    "    prediction = []\n",
    "    for i, j in clf_list.iterrows():\n",
    "        voting = Counter([j[0], j[1], j[2]])\n",
    "        prediction.append(voting.most_common(1)[0][0])\n",
    "    prediction = np.asarray(prediction)\n",
    "    \n",
    "    return prediction"
   ]
  },
  {
   "cell_type": "code",
   "execution_count": null,
   "metadata": {},
   "outputs": [],
   "source": [
    "prediction = majority_voting(clf_list)"
   ]
  },
  {
   "cell_type": "code",
   "execution_count": null,
   "metadata": {},
   "outputs": [],
   "source": [
    "print('Hard Classification Semeval')\n",
    "print(classification_report(xgb.actual, prediction))"
   ]
  },
  {
   "cell_type": "code",
   "execution_count": null,
   "metadata": {},
   "outputs": [],
   "source": [
    "f1_score(xgb.actual, prediction)"
   ]
  }
 ],
 "metadata": {
  "kernelspec": {
   "display_name": "Python 3",
   "language": "python",
   "name": "python3"
  },
  "language_info": {
   "codemirror_mode": {
    "name": "ipython",
    "version": 3
   },
   "file_extension": ".py",
   "mimetype": "text/x-python",
   "name": "python",
   "nbconvert_exporter": "python",
   "pygments_lexer": "ipython3",
   "version": "3.7.9"
  }
 },
 "nbformat": 4,
 "nbformat_minor": 4
}
